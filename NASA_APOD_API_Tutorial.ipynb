{
 "cells": [
  {
   "cell_type": "markdown",
   "id": "4707d528-f1b7-4942-835b-912dae70b29d",
   "metadata": {},
   "source": [
    "# Learning About APIs\n",
    "\n",
    "In this notebook, we will learn about Application Programming Interfaces (APIs) by exploring how to make API calls in Python. We will cover:\n",
    "- What an API is and how it works.\n",
    "- How to make GET requests using Python's `requests` library.\n",
    "- How to parse JSON responses.\n",
    "- Basic error handling when working with APIs.\n",
    "- How to use API keys for authenticated requests (if needed).\n"
   ]
  },
  {
   "cell_type": "code",
   "execution_count": 6,
   "id": "8091f899-dc07-4fbd-96bb-0f1fb10b7283",
   "metadata": {},
   "outputs": [],
   "source": [
    "# Importing necessary libraries\n",
    "import requests\n",
    "import json\n"
   ]
  },
  {
   "cell_type": "markdown",
   "id": "3303d3a9-2270-44d3-90df-810fba9a46c5",
   "metadata": {},
   "source": [
    "# What is an API?\n",
    "\n",
    "An API (Application Programming Interface) allows two applications to communicate with each other. For example, when you need to get weather information, you can send a request to a weather service's API. The API processes your request and sends back data (often in JSON format) that your application can use.\n"
   ]
  },
  {
   "cell_type": "code",
   "execution_count": 7,
   "id": "74c33727-ee8c-45e3-b1e2-a1ecd38a90fb",
   "metadata": {},
   "outputs": [
    {
     "name": "stdout",
     "output_type": "stream",
     "text": [
      "Status Code: 200\n"
     ]
    }
   ],
   "source": [
    "# Making a simple GET request to a public API\n",
    "# We are using JSONPlaceholder, a free online REST API for testing and prototyping.\n",
    "url = 'https://jsonplaceholder.typicode.com/todos/1'\n",
    "response = requests.get(url)\n",
    "\n",
    "# Print the status code to check if the request was successful (200 means OK)\n",
    "print(\"Status Code:\", response.status_code)\n"
   ]
  },
  {
   "cell_type": "markdown",
   "id": "a9a0ba56-b60d-4857-be86-9b369a143764",
   "metadata": {},
   "source": [
    "# Parsing the API Response\n",
    "\n",
    "API responses are frequently in JSON format. The next cell shows how to convert the response from JSON and display it in a readable format.\n"
   ]
  },
  {
   "cell_type": "code",
   "execution_count": 8,
   "id": "8edee9a8-3c01-4682-b42a-966120146d2f",
   "metadata": {},
   "outputs": [
    {
     "name": "stdout",
     "output_type": "stream",
     "text": [
      "{\n",
      "    \"userId\": 1,\n",
      "    \"id\": 1,\n",
      "    \"title\": \"delectus aut autem\",\n",
      "    \"completed\": false\n",
      "}\n"
     ]
    }
   ],
   "source": [
    "# Parse JSON response\n",
    "data = response.json()\n",
    "\n",
    "# Pretty-print the JSON data\n",
    "print(json.dumps(data, indent=4))\n"
   ]
  },
  {
   "cell_type": "markdown",
   "id": "b53b0054-05ff-4cb2-87f1-e8ee5b4ea25a",
   "metadata": {},
   "source": [
    "# Error Handling in API Calls\n",
    "\n",
    "When working with APIs, it's important to handle errors gracefully—whether it's a network problem or an invalid response from the server. In the next cell, we add basic error handling to our API call.\n"
   ]
  },
  {
   "cell_type": "code",
   "execution_count": 9,
   "id": "bbb8602a-a59c-491a-937b-46db8a0c3a09",
   "metadata": {},
   "outputs": [
    {
     "name": "stdout",
     "output_type": "stream",
     "text": [
      "API call successful. Here is the data:\n",
      "{\n",
      "    \"userId\": 1,\n",
      "    \"id\": 1,\n",
      "    \"title\": \"delectus aut autem\",\n",
      "    \"completed\": false\n",
      "}\n"
     ]
    }
   ],
   "source": [
    "try:\n",
    "    response = requests.get(url)\n",
    "    response.raise_for_status()  # Raises an error for bad status codes (e.g., 404, 500)\n",
    "    data = response.json()\n",
    "    print(\"API call successful. Here is the data:\")\n",
    "    print(json.dumps(data, indent=4))\n",
    "except requests.exceptions.HTTPError as http_err:\n",
    "    print(f\"HTTP error occurred: {http_err}\")\n",
    "except Exception as err:\n",
    "    print(f\"Other error occurred: {err}\")\n"
   ]
  },
  {
   "cell_type": "markdown",
   "id": "567ca8bc-1b9c-4e48-b038-8cbcf745c1c1",
   "metadata": {},
   "source": [
    "# Using API Keys\n",
    "\n",
    "Some APIs require authentication via an API key. The API key is often included in the request header or as a query parameter. The next cell demonstrates how to include an API key in your request headers. (Note: Replace the dummy URL and API key with real ones if you're using an actual API.)\n"
   ]
  },
  {
   "cell_type": "code",
   "execution_count": 10,
   "id": "35533ad7-265c-43d1-988f-68f87d52026e",
   "metadata": {},
   "outputs": [],
   "source": [
    "# Example: API call with an API key in the header \n",
    "api_key = 'your_api_key_here'\n",
    "headers = {\n",
    "    'Authorization': f'Bearer {api_key}'\n",
    "}\n",
    "\n",
    "# Dummy URL for demonstration purposes\n",
    "api_url = 'https://api.example.com/data'\n",
    "\n",
    "# Uncomment the following lines and update the URL and API key to use this code\n",
    "# response = requests.get(api_url, headers=headers)\n",
    "# print(\"Status Code:\", response.status_code)\n",
    "# print(json.dumps(response.json(), indent=4))\n"
   ]
  },
  {
   "cell_type": "markdown",
   "id": "5d83e72f-9afa-493d-9aba-c479d2d2b484",
   "metadata": {},
   "source": [
    "# NASA Astronomy Picture of the Day (APOD) API Example with a Real API Key\n",
    "\n",
    "This cell demonstrates how to use NASA's Astronomy Picture of the Day (APOD) API by making an authenticated API call with a real API key. NASA offers a public demo key (`DEMO_KEY`) that allows you to experiment with their API without needing to register for a private key.\n",
    "\n",
    "**In this cell, we:**\n",
    "- Construct the API URL by including the API key.\n",
    "- Send a GET request to retrieve data about the current astronomy picture.\n",
    "- Check the response status to ensure the API call was successful.\n",
    "- Parse the JSON response and print it in a formatted way.\n"
   ]
  },
  {
   "cell_type": "code",
   "execution_count": 11,
   "id": "cc43289b-8ba7-4e38-96af-896ea7d63927",
   "metadata": {},
   "outputs": [
    {
     "name": "stdout",
     "output_type": "stream",
     "text": [
      "NASA Astronomy Picture of the Day Data:\n",
      "{\n",
      "    \"date\": \"2025-03-11\",\n",
      "    \"explanation\": \"Many spiral galaxies have bars across their centers.  Even our own Milky Way Galaxy is thought to have a modest central bar. Prominently barred spiral galaxy NGC 1672, featured here, was captured in spectacular detail in an image taken by the orbiting Hubble Space Telescope. Visible are dark filamentary dust lanes, young clusters of bright blue stars, red emission nebulas of glowing hydrogen gas, a long bright bar of stars across the center, and a bright active nucleus that likely houses a supermassive black hole.  Light takes about 60 million years to reach us from NGC 1672, which spans about 75,000 light years across. NGC 1672, which appears toward the constellation of the Dolphinfish (Dorado), has been studied to find out how a spiral bar contributes to star formation in a galaxy's central regions.\",\n",
      "    \"hdurl\": \"https://apod.nasa.gov/apod/image/2503/NGC1672B_Hubble_4000.jpg\",\n",
      "    \"media_type\": \"image\",\n",
      "    \"service_version\": \"v1\",\n",
      "    \"title\": \"NGC 1672: Barred Spiral Galaxy from Hubble\",\n",
      "    \"url\": \"https://apod.nasa.gov/apod/image/2503/NGC1672B_Hubble_1080.jpg\"\n",
      "}\n"
     ]
    }
   ],
   "source": [
    "# NASA's APOD API with a public demo API key\n",
    "api_key = 'DEMO_KEY'  # Public demo key provided by NASA\n",
    "api_url = f'https://api.nasa.gov/planetary/apod?api_key={api_key}'\n",
    "\n",
    "response = requests.get(api_url)\n",
    "\n",
    "if response.status_code == 200:\n",
    "    data = response.json()\n",
    "    print(\"NASA Astronomy Picture of the Day Data:\")\n",
    "    print(json.dumps(data, indent=4))\n",
    "else:\n",
    "    print(\"Error: Unable to fetch data. Status Code:\", response.status_code)\n"
   ]
  },
  {
   "cell_type": "markdown",
   "id": "a809d58f-0dcb-4097-b5a6-82795a0d3136",
   "metadata": {},
   "source": [
    "## About the API Key\n",
    "\n",
    "**Where did we find this key?**\n",
    "\n",
    "The `DEMO_KEY` used in the NASA APOD API example is a public demo key provided by NASA. It is available on NASA’s official API website (https://api.nasa.gov) and is intended for testing and educational purposes. This key allows users to experiment with the API, but it comes with limitations on usage.\n",
    "\n",
    "**What is an API Key?**\n",
    "\n",
    "An API key is a unique token (a token is a special piece of data, often a string of characters, that serves as an electronic key for authentication and authorization) used to authenticate and authorize requests made to an API. It serves several important functions:\n",
    "- **Authentication:** Verifies that the request is coming from a legitimate source.\n",
    "- **Authorization:** Determines what data and actions the requester is permitted to access.\n",
    "- **Rate Limiting:** Helps control how many requests a client can make within a given timeframe.\n",
    "- **Monitoring:** Enables API providers to track usage and manage access effectively.\n",
    "\n",
    "Using an API key like `DEMO_KEY` in your API requests helps ensure secure and controlled access to the API's resources.\n"
   ]
  },
  {
   "cell_type": "code",
   "execution_count": null,
   "id": "e7e189aa-71fa-49a1-b474-29dd3a2c8d28",
   "metadata": {},
   "outputs": [],
   "source": []
  }
 ],
 "metadata": {
  "kernelspec": {
   "display_name": "Python 3 (ipykernel)",
   "language": "python",
   "name": "python3"
  },
  "language_info": {
   "codemirror_mode": {
    "name": "ipython",
    "version": 3
   },
   "file_extension": ".py",
   "mimetype": "text/x-python",
   "name": "python",
   "nbconvert_exporter": "python",
   "pygments_lexer": "ipython3",
   "version": "3.9.7"
  }
 },
 "nbformat": 4,
 "nbformat_minor": 5
}
